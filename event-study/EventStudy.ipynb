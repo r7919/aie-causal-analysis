{
  "nbformat": 4,
  "nbformat_minor": 0,
  "metadata": {
    "colab": {
      "provenance": []
    },
    "kernelspec": {
      "name": "python3",
      "display_name": "Python 3"
    },
    "language_info": {
      "name": "python"
    }
  },
  "cells": [
    {
      "cell_type": "code",
      "metadata": {
        "colab": {
          "base_uri": "https://localhost:8080/"
        },
        "id": "HJRy-UjNZQHc",
        "outputId": "1c6b5de2-0f74-4c98-a394-feec3e3aca6d"
      },
      "source": [
        "cd \"./drive/MyDrive/PM/\""
      ],
      "execution_count": null,
      "outputs": [
        {
          "output_type": "stream",
          "name": "stdout",
          "text": [
            "/content/drive/MyDrive/PM\n"
          ]
        }
      ]
    },
    {
      "cell_type": "code",
      "metadata": {
        "colab": {
          "base_uri": "https://localhost:8080/"
        },
        "id": "Tx9riHvzi-CY",
        "outputId": "e0eba820-8796-4f24-c171-c198466f781e"
      },
      "source": [
        "!pip install eventstudy"
      ],
      "execution_count": null,
      "outputs": [
        {
          "output_type": "stream",
          "name": "stdout",
          "text": [
            "Looking in indexes: https://pypi.org/simple, https://us-python.pkg.dev/colab-wheels/public/simple/\n",
            "Collecting eventstudy\n",
            "  Downloading eventstudy-0.1a12-py3-none-any.whl (41 kB)\n",
            "\u001b[K     |████████████████████████████████| 41 kB 98 kB/s \n",
            "\u001b[?25hRequirement already satisfied: numpy in /usr/local/lib/python3.7/dist-packages (from eventstudy) (1.21.6)\n",
            "Requirement already satisfied: matplotlib in /usr/local/lib/python3.7/dist-packages (from eventstudy) (3.2.2)\n",
            "Requirement already satisfied: pandas in /usr/local/lib/python3.7/dist-packages (from eventstudy) (1.3.5)\n",
            "Requirement already satisfied: scipy in /usr/local/lib/python3.7/dist-packages (from eventstudy) (1.7.3)\n",
            "Requirement already satisfied: statsmodels in /usr/local/lib/python3.7/dist-packages (from eventstudy) (0.12.2)\n",
            "Requirement already satisfied: kiwisolver>=1.0.1 in /usr/local/lib/python3.7/dist-packages (from matplotlib->eventstudy) (1.4.4)\n",
            "Requirement already satisfied: python-dateutil>=2.1 in /usr/local/lib/python3.7/dist-packages (from matplotlib->eventstudy) (2.8.2)\n",
            "Requirement already satisfied: cycler>=0.10 in /usr/local/lib/python3.7/dist-packages (from matplotlib->eventstudy) (0.11.0)\n",
            "Requirement already satisfied: pyparsing!=2.0.4,!=2.1.2,!=2.1.6,>=2.0.1 in /usr/local/lib/python3.7/dist-packages (from matplotlib->eventstudy) (3.0.9)\n",
            "Requirement already satisfied: typing-extensions in /usr/local/lib/python3.7/dist-packages (from kiwisolver>=1.0.1->matplotlib->eventstudy) (4.1.1)\n",
            "Requirement already satisfied: six>=1.5 in /usr/local/lib/python3.7/dist-packages (from python-dateutil>=2.1->matplotlib->eventstudy) (1.15.0)\n",
            "Requirement already satisfied: pytz>=2017.3 in /usr/local/lib/python3.7/dist-packages (from pandas->eventstudy) (2022.6)\n",
            "Requirement already satisfied: patsy>=0.5 in /usr/local/lib/python3.7/dist-packages (from statsmodels->eventstudy) (0.5.3)\n",
            "Installing collected packages: eventstudy\n",
            "Successfully installed eventstudy-0.1a12\n"
          ]
        }
      ]
    },
    {
      "cell_type": "code",
      "metadata": {
        "id": "jLqT89_3cidf"
      },
      "source": [
        "import os\n",
        "import numpy as np\n",
        "import pandas as pd\n",
        "from eventstudy import Single, models\n",
        "import statsmodels.api as sm\n",
        "import matplotlib.pyplot as plt\n",
        "from scipy.stats import t"
      ],
      "execution_count": null,
      "outputs": []
    },
    {
      "cell_type": "code",
      "metadata": {
        "id": "uxhQ3ZL0eqNF"
      },
      "source": [
        "def getData(date, company, index, estimation_size, test_size, test_window):\n",
        "  f = PATH + company + \".csv\"\n",
        "  index_f = PATH + index + \".csv\"\n",
        "  stock = pd.read_csv(f)\n",
        "  market = pd.read_csv(index_f)\n",
        "  i =-1\n",
        "  for j in range(len(stock)):\n",
        "    for d in date:\n",
        "      if str(stock[\"Date\"][j]) in d:\n",
        "          i=j\n",
        "          break\n",
        "    if i!=-1:\n",
        "      break      \n",
        "  total_time_before = estimation_size - test_window[0]\n",
        "  total_time_after = test_window[1]+1 \n",
        "  #print(i, total_time_after, total_time_before)\n",
        "  l_stock=None\n",
        "  if \"Daily Return (%)\" in stock.columns:\n",
        "      l_stock = stock[\"Daily Return (%)\"][max(i-total_time_before,0):i+total_time_after].tolist()\n",
        "  else:\n",
        "      l_stock = stock[\"Daily Change (%)\"][max(i-total_time_before,0):i+total_time_after].tolist()\n",
        "  l_index = market[\"Daily Return (%)\"][max(i-total_time_before,0):i+total_time_after].tolist()\n",
        "  return l_stock, l_index"
      ],
      "execution_count": null,
      "outputs": []
    },
    {
      "cell_type": "code",
      "metadata": {
        "id": "psd1rdLOeqNT"
      },
      "source": [
        "def find(date=[\"01-Aug-16\"], companies=['TCS'], index='NIFTY50', estimation_size=120, test_size=19, test_window=(-9,9), l1=[], l2=[]):\n",
        "    for company in companies:\n",
        "        if company == \"NIFTY50\":\n",
        "          continue\n",
        "        security, market = getData(date, company, index, estimation_size, test_size, test_window)\n",
        "        event = Single(\n",
        "                models.market_model,\n",
        "                {'security_returns':security, 'market_returns':market},\n",
        "                event_window = test_window,\n",
        "                estimation_size=estimation_size\n",
        "            )\n",
        "        df = event.results(asterisks=False)\n",
        "        complete_path = os.path.join(save_path, company+\"_\"+date[0])\n",
        "        df[\"T-stat (AR)\"] = df['AR']/np.sqrt(event.var_AR[0])\n",
        "        df[\"P-value (AR)\"] = t.sf(np.abs(df[\"T-stat (AR)\"]), event.df)*2 # Two tailed\n",
        "        df[\"T-stat (AR)\"] = round(df[\"T-stat (AR)\"] , 3)\n",
        "        df[\"P-value (AR)\"] = round(df[\"P-value (AR)\"],3)\n",
        "        df = df.loc[:, [\"AR\",\t\"Std. E. AR\", \"T-stat (AR)\",\t\"P-value (AR)\",\t\"CAR\",\t\"Std. E. CAR\",\"T-stat\",\"P-value\"\t]] # Rearrange\n",
        "        df.to_csv(complete_path+\".csv\")\n",
        "        c11=0\n",
        "        c12=0\n",
        "        c21=0\n",
        "        c22=0\n",
        "        for i in df.index:\n",
        "          v1 = float(df['P-value (AR)'][i])\n",
        "          v2 = float(df['P-value'][i])\n",
        "          if v1<=0.05:\n",
        "            c11+=1\n",
        "          if v2<=0.05:\n",
        "            c12+=1\n",
        "          if v1<=0.10:\n",
        "            c21+=1\n",
        "          if v2<=0.10:\n",
        "            c22+=1\n",
        "        if c11>=15 or c12>=15:\n",
        "            print(\"significant Event (with P(<0.05)) for \", company)\n",
        "        if c21>=15 or c22>=15:\n",
        "            print(\"significant Event (with P(<0.10)) for \", company)\n",
        "\n",
        "        fig = plt.figure(figsize=(9, 6))\n",
        "        event.plot(AR=True)\n",
        "        plt.savefig(complete_path+'_with_confidence.png', bbox_inches='tight')\n",
        "        plt.close()\n",
        " \n",
        "        fig = plt.figure(figsize=(9, 6))\n",
        "        event.plot(AR=True, CI=False)\n",
        "        plt.savefig(complete_path+'_without_confidence.png', bbox_inches='tight')\n",
        "        plt.close()\n"
      ],
      "execution_count": null,
      "outputs": []
    },
    {
      "cell_type": "markdown",
      "metadata": {
        "id": "s-WkPkScU6eb"
      },
      "source": [
        "# Event Study: Lockdown"
      ]
    },
    {
      "cell_type": "code",
      "metadata": {
        "id": "_J4YDtV3VB5O"
      },
      "source": [
        "PATH = \"./Event Study CSVs/\"\n"
      ],
      "execution_count": null,
      "outputs": []
    },
    {
      "cell_type": "code",
      "metadata": {
        "id": "BuMb7obVVB5Q"
      },
      "source": [
        "# Stocks:\n",
        "stocks = ['TATAMOTORS',\n",
        "          \"ONGC\",\n",
        "          \"RELIANCE\",\n",
        "          \"HDFCBANK\",\n",
        "          \"INFY\",\n",
        "          \"BHARTIARTL\"]"
      ],
      "execution_count": null,
      "outputs": []
    },
    {
      "cell_type": "code",
      "source": [
        "rm -rf \"./Event Study Results/23March/\""
      ],
      "metadata": {
        "id": "bNPu91WJmKhC"
      },
      "execution_count": null,
      "outputs": []
    },
    {
      "cell_type": "markdown",
      "source": [
        "### 13 January"
      ],
      "metadata": {
        "id": "QlCtGWyxeHH9"
      }
    },
    {
      "cell_type": "code",
      "source": [
        "mkdir \"./Event Study Results/13January/\" "
      ],
      "metadata": {
        "id": "wWodjIzJeGrl"
      },
      "execution_count": null,
      "outputs": []
    },
    {
      "cell_type": "code",
      "source": [
        "save_path = \"./Event Study Results/13January/\""
      ],
      "metadata": {
        "id": "i1y9iuZreqNC"
      },
      "execution_count": null,
      "outputs": []
    },
    {
      "cell_type": "code",
      "source": [
        "find(date = [\"13-Jan-20\", \"13-Jan-2020\"], companies=stocks, index='NIFTY50', estimation_size=120, test_size=29, test_window=(-14,14))"
      ],
      "metadata": {
        "colab": {
          "base_uri": "https://localhost:8080/",
          "height": 225
        },
        "id": "3snUnq0Vengi",
        "outputId": "d7647c15-a679-4592-91e2-0f8cdb12e252"
      },
      "execution_count": null,
      "outputs": [
        {
          "output_type": "display_data",
          "data": {
            "text/plain": [
              "<Figure size 648x432 with 0 Axes>"
            ]
          },
          "metadata": {}
        },
        {
          "output_type": "display_data",
          "data": {
            "text/plain": [
              "<Figure size 648x432 with 0 Axes>"
            ]
          },
          "metadata": {}
        },
        {
          "output_type": "display_data",
          "data": {
            "text/plain": [
              "<Figure size 648x432 with 0 Axes>"
            ]
          },
          "metadata": {}
        },
        {
          "output_type": "display_data",
          "data": {
            "text/plain": [
              "<Figure size 648x432 with 0 Axes>"
            ]
          },
          "metadata": {}
        },
        {
          "output_type": "display_data",
          "data": {
            "text/plain": [
              "<Figure size 648x432 with 0 Axes>"
            ]
          },
          "metadata": {}
        },
        {
          "output_type": "display_data",
          "data": {
            "text/plain": [
              "<Figure size 648x432 with 0 Axes>"
            ]
          },
          "metadata": {}
        },
        {
          "output_type": "display_data",
          "data": {
            "text/plain": [
              "<Figure size 648x432 with 0 Axes>"
            ]
          },
          "metadata": {}
        },
        {
          "output_type": "display_data",
          "data": {
            "text/plain": [
              "<Figure size 648x432 with 0 Axes>"
            ]
          },
          "metadata": {}
        },
        {
          "output_type": "display_data",
          "data": {
            "text/plain": [
              "<Figure size 648x432 with 0 Axes>"
            ]
          },
          "metadata": {}
        },
        {
          "output_type": "display_data",
          "data": {
            "text/plain": [
              "<Figure size 648x432 with 0 Axes>"
            ]
          },
          "metadata": {}
        },
        {
          "output_type": "display_data",
          "data": {
            "text/plain": [
              "<Figure size 648x432 with 0 Axes>"
            ]
          },
          "metadata": {}
        },
        {
          "output_type": "display_data",
          "data": {
            "text/plain": [
              "<Figure size 648x432 with 0 Axes>"
            ]
          },
          "metadata": {}
        }
      ]
    },
    {
      "cell_type": "markdown",
      "source": [
        "### 30th January 2020"
      ],
      "metadata": {
        "id": "eZb_XJtcoTn0"
      }
    },
    {
      "cell_type": "code",
      "source": [
        "mkdir \"./Event Study Results/30January/\" "
      ],
      "metadata": {
        "id": "WFbNOjpNoeIY"
      },
      "execution_count": null,
      "outputs": []
    },
    {
      "cell_type": "code",
      "source": [
        "save_path = \"./Event Study Results/30January/\""
      ],
      "metadata": {
        "id": "4Q3Fun_loeIZ"
      },
      "execution_count": null,
      "outputs": []
    },
    {
      "cell_type": "code",
      "source": [
        "find(date = [\"30-Jan-20\", \"30-Jan-2020\"], companies=stocks, index='NIFTY50', estimation_size=120, test_size=29, test_window=(-14,14))"
      ],
      "metadata": {
        "colab": {
          "base_uri": "https://localhost:8080/",
          "height": 225
        },
        "outputId": "591a9c7d-b016-4ee6-ed75-0d9db3a211e3",
        "id": "nle6wQ-moeIa"
      },
      "execution_count": null,
      "outputs": [
        {
          "output_type": "display_data",
          "data": {
            "text/plain": [
              "<Figure size 648x432 with 0 Axes>"
            ]
          },
          "metadata": {}
        },
        {
          "output_type": "display_data",
          "data": {
            "text/plain": [
              "<Figure size 648x432 with 0 Axes>"
            ]
          },
          "metadata": {}
        },
        {
          "output_type": "display_data",
          "data": {
            "text/plain": [
              "<Figure size 648x432 with 0 Axes>"
            ]
          },
          "metadata": {}
        },
        {
          "output_type": "display_data",
          "data": {
            "text/plain": [
              "<Figure size 648x432 with 0 Axes>"
            ]
          },
          "metadata": {}
        },
        {
          "output_type": "display_data",
          "data": {
            "text/plain": [
              "<Figure size 648x432 with 0 Axes>"
            ]
          },
          "metadata": {}
        },
        {
          "output_type": "display_data",
          "data": {
            "text/plain": [
              "<Figure size 648x432 with 0 Axes>"
            ]
          },
          "metadata": {}
        },
        {
          "output_type": "display_data",
          "data": {
            "text/plain": [
              "<Figure size 648x432 with 0 Axes>"
            ]
          },
          "metadata": {}
        },
        {
          "output_type": "display_data",
          "data": {
            "text/plain": [
              "<Figure size 648x432 with 0 Axes>"
            ]
          },
          "metadata": {}
        },
        {
          "output_type": "display_data",
          "data": {
            "text/plain": [
              "<Figure size 648x432 with 0 Axes>"
            ]
          },
          "metadata": {}
        },
        {
          "output_type": "display_data",
          "data": {
            "text/plain": [
              "<Figure size 648x432 with 0 Axes>"
            ]
          },
          "metadata": {}
        },
        {
          "output_type": "display_data",
          "data": {
            "text/plain": [
              "<Figure size 648x432 with 0 Axes>"
            ]
          },
          "metadata": {}
        },
        {
          "output_type": "display_data",
          "data": {
            "text/plain": [
              "<Figure size 648x432 with 0 Axes>"
            ]
          },
          "metadata": {}
        }
      ]
    },
    {
      "cell_type": "markdown",
      "source": [
        "### 11th March"
      ],
      "metadata": {
        "id": "GAUjUCitjxfx"
      }
    },
    {
      "cell_type": "code",
      "source": [
        "mkdir \"./Event Study Results/11March/\" "
      ],
      "metadata": {
        "id": "caX7ucj1lvzG"
      },
      "execution_count": null,
      "outputs": []
    },
    {
      "cell_type": "code",
      "source": [
        "save_path = \"./Event Study Results/11March/\""
      ],
      "metadata": {
        "id": "Sr04XBWNmkIY"
      },
      "execution_count": null,
      "outputs": []
    },
    {
      "cell_type": "code",
      "source": [
        "find(date = [\"11-Mar-20\", \"11-Mar-2020\"], companies=stocks, index='NIFTY50', estimation_size=120, test_size=29, test_window=(-14,14))"
      ],
      "metadata": {
        "colab": {
          "base_uri": "https://localhost:8080/",
          "height": 312
        },
        "id": "qLFJYM-imlzc",
        "outputId": "b849fa7e-cb46-4c66-d12d-d64fa4b26eb8"
      },
      "execution_count": null,
      "outputs": [
        {
          "output_type": "stream",
          "name": "stdout",
          "text": [
            "significant Event (with P(<0.05)) for  ONGC\n",
            "significant Event (with P(<0.10)) for  ONGC\n",
            "significant Event (with P(<0.10)) for  RELIANCE\n",
            "significant Event (with P(<0.05)) for  HDFCBANK\n",
            "significant Event (with P(<0.10)) for  HDFCBANK\n"
          ]
        },
        {
          "output_type": "display_data",
          "data": {
            "text/plain": [
              "<Figure size 648x432 with 0 Axes>"
            ]
          },
          "metadata": {}
        },
        {
          "output_type": "display_data",
          "data": {
            "text/plain": [
              "<Figure size 648x432 with 0 Axes>"
            ]
          },
          "metadata": {}
        },
        {
          "output_type": "display_data",
          "data": {
            "text/plain": [
              "<Figure size 648x432 with 0 Axes>"
            ]
          },
          "metadata": {}
        },
        {
          "output_type": "display_data",
          "data": {
            "text/plain": [
              "<Figure size 648x432 with 0 Axes>"
            ]
          },
          "metadata": {}
        },
        {
          "output_type": "display_data",
          "data": {
            "text/plain": [
              "<Figure size 648x432 with 0 Axes>"
            ]
          },
          "metadata": {}
        },
        {
          "output_type": "display_data",
          "data": {
            "text/plain": [
              "<Figure size 648x432 with 0 Axes>"
            ]
          },
          "metadata": {}
        },
        {
          "output_type": "display_data",
          "data": {
            "text/plain": [
              "<Figure size 648x432 with 0 Axes>"
            ]
          },
          "metadata": {}
        },
        {
          "output_type": "display_data",
          "data": {
            "text/plain": [
              "<Figure size 648x432 with 0 Axes>"
            ]
          },
          "metadata": {}
        },
        {
          "output_type": "display_data",
          "data": {
            "text/plain": [
              "<Figure size 648x432 with 0 Axes>"
            ]
          },
          "metadata": {}
        },
        {
          "output_type": "display_data",
          "data": {
            "text/plain": [
              "<Figure size 648x432 with 0 Axes>"
            ]
          },
          "metadata": {}
        },
        {
          "output_type": "display_data",
          "data": {
            "text/plain": [
              "<Figure size 648x432 with 0 Axes>"
            ]
          },
          "metadata": {}
        },
        {
          "output_type": "display_data",
          "data": {
            "text/plain": [
              "<Figure size 648x432 with 0 Axes>"
            ]
          },
          "metadata": {}
        }
      ]
    },
    {
      "cell_type": "markdown",
      "metadata": {
        "id": "3eruvVJVU-EH"
      },
      "source": [
        "### 25th March"
      ]
    },
    {
      "cell_type": "code",
      "source": [
        "mkdir \"./Event Study Results/25March/\" "
      ],
      "metadata": {
        "id": "zPHzGtLLlymw"
      },
      "execution_count": null,
      "outputs": []
    },
    {
      "cell_type": "code",
      "source": [
        "save_path = \"./Event Study Results/25March/\""
      ],
      "metadata": {
        "id": "n574yp6Rdhz8"
      },
      "execution_count": null,
      "outputs": []
    },
    {
      "cell_type": "code",
      "metadata": {
        "colab": {
          "base_uri": "https://localhost:8080/",
          "height": 382
        },
        "id": "3620tEYuVB5T",
        "outputId": "67ba056a-3a7e-4b06-8826-1f9b719be00a"
      },
      "source": [
        "find(date = [\"25-Mar-20\", \"25-Mar-2020\"], companies=stocks, index='NIFTY50', estimation_size=120, test_size=29, test_window=(-14,14))"
      ],
      "execution_count": null,
      "outputs": [
        {
          "output_type": "stream",
          "name": "stdout",
          "text": [
            "significant Event (with P(<0.05)) for  TATAMOTORS\n",
            "significant Event (with P(<0.10)) for  TATAMOTORS\n",
            "significant Event (with P(<0.05)) for  ONGC\n",
            "significant Event (with P(<0.10)) for  ONGC\n",
            "significant Event (with P(<0.05)) for  RELIANCE\n",
            "significant Event (with P(<0.10)) for  RELIANCE\n",
            "significant Event (with P(<0.10)) for  HDFCBANK\n",
            "significant Event (with P(<0.05)) for  INFY\n",
            "significant Event (with P(<0.10)) for  INFY\n"
          ]
        },
        {
          "output_type": "display_data",
          "data": {
            "text/plain": [
              "<Figure size 648x432 with 0 Axes>"
            ]
          },
          "metadata": {}
        },
        {
          "output_type": "display_data",
          "data": {
            "text/plain": [
              "<Figure size 648x432 with 0 Axes>"
            ]
          },
          "metadata": {}
        },
        {
          "output_type": "display_data",
          "data": {
            "text/plain": [
              "<Figure size 648x432 with 0 Axes>"
            ]
          },
          "metadata": {}
        },
        {
          "output_type": "display_data",
          "data": {
            "text/plain": [
              "<Figure size 648x432 with 0 Axes>"
            ]
          },
          "metadata": {}
        },
        {
          "output_type": "display_data",
          "data": {
            "text/plain": [
              "<Figure size 648x432 with 0 Axes>"
            ]
          },
          "metadata": {}
        },
        {
          "output_type": "display_data",
          "data": {
            "text/plain": [
              "<Figure size 648x432 with 0 Axes>"
            ]
          },
          "metadata": {}
        },
        {
          "output_type": "display_data",
          "data": {
            "text/plain": [
              "<Figure size 648x432 with 0 Axes>"
            ]
          },
          "metadata": {}
        },
        {
          "output_type": "display_data",
          "data": {
            "text/plain": [
              "<Figure size 648x432 with 0 Axes>"
            ]
          },
          "metadata": {}
        },
        {
          "output_type": "display_data",
          "data": {
            "text/plain": [
              "<Figure size 648x432 with 0 Axes>"
            ]
          },
          "metadata": {}
        },
        {
          "output_type": "display_data",
          "data": {
            "text/plain": [
              "<Figure size 648x432 with 0 Axes>"
            ]
          },
          "metadata": {}
        },
        {
          "output_type": "display_data",
          "data": {
            "text/plain": [
              "<Figure size 648x432 with 0 Axes>"
            ]
          },
          "metadata": {}
        },
        {
          "output_type": "display_data",
          "data": {
            "text/plain": [
              "<Figure size 648x432 with 0 Axes>"
            ]
          },
          "metadata": {}
        }
      ]
    },
    {
      "cell_type": "markdown",
      "source": [
        "### 8th Jun 2020"
      ],
      "metadata": {
        "id": "pUgQAt8_fewv"
      }
    },
    {
      "cell_type": "code",
      "source": [
        "mkdir \"./Event Study Results/8June/\" "
      ],
      "metadata": {
        "id": "JViv9DaDfnLf"
      },
      "execution_count": null,
      "outputs": []
    },
    {
      "cell_type": "code",
      "source": [
        "save_path = \"./Event Study Results/8June/\""
      ],
      "metadata": {
        "id": "ahCb-jV0fsNh"
      },
      "execution_count": null,
      "outputs": []
    },
    {
      "cell_type": "code",
      "source": [
        "find(date = [\"08-Jun-20\", \"08-Jun-2020\"], companies=stocks, index='NIFTY50', estimation_size=120, test_size=29, test_window=(-14,14))"
      ],
      "metadata": {
        "colab": {
          "base_uri": "https://localhost:8080/",
          "height": 243
        },
        "id": "2Ho8pxxmqRIB",
        "outputId": "fb61fb77-81ab-4961-ce4e-8d61d09bbedd"
      },
      "execution_count": null,
      "outputs": [
        {
          "output_type": "stream",
          "name": "stdout",
          "text": [
            "significant Event (with P(<0.10)) for  BHARTIARTL\n"
          ]
        },
        {
          "output_type": "display_data",
          "data": {
            "text/plain": [
              "<Figure size 648x432 with 0 Axes>"
            ]
          },
          "metadata": {}
        },
        {
          "output_type": "display_data",
          "data": {
            "text/plain": [
              "<Figure size 648x432 with 0 Axes>"
            ]
          },
          "metadata": {}
        },
        {
          "output_type": "display_data",
          "data": {
            "text/plain": [
              "<Figure size 648x432 with 0 Axes>"
            ]
          },
          "metadata": {}
        },
        {
          "output_type": "display_data",
          "data": {
            "text/plain": [
              "<Figure size 648x432 with 0 Axes>"
            ]
          },
          "metadata": {}
        },
        {
          "output_type": "display_data",
          "data": {
            "text/plain": [
              "<Figure size 648x432 with 0 Axes>"
            ]
          },
          "metadata": {}
        },
        {
          "output_type": "display_data",
          "data": {
            "text/plain": [
              "<Figure size 648x432 with 0 Axes>"
            ]
          },
          "metadata": {}
        },
        {
          "output_type": "display_data",
          "data": {
            "text/plain": [
              "<Figure size 648x432 with 0 Axes>"
            ]
          },
          "metadata": {}
        },
        {
          "output_type": "display_data",
          "data": {
            "text/plain": [
              "<Figure size 648x432 with 0 Axes>"
            ]
          },
          "metadata": {}
        },
        {
          "output_type": "display_data",
          "data": {
            "text/plain": [
              "<Figure size 648x432 with 0 Axes>"
            ]
          },
          "metadata": {}
        },
        {
          "output_type": "display_data",
          "data": {
            "text/plain": [
              "<Figure size 648x432 with 0 Axes>"
            ]
          },
          "metadata": {}
        },
        {
          "output_type": "display_data",
          "data": {
            "text/plain": [
              "<Figure size 648x432 with 0 Axes>"
            ]
          },
          "metadata": {}
        },
        {
          "output_type": "display_data",
          "data": {
            "text/plain": [
              "<Figure size 648x432 with 0 Axes>"
            ]
          },
          "metadata": {}
        }
      ]
    },
    {
      "cell_type": "markdown",
      "source": [
        "### 1 July"
      ],
      "metadata": {
        "id": "A-HczJxysWDS"
      }
    },
    {
      "cell_type": "code",
      "source": [
        "mkdir \"./Event Study Results/1July/\" "
      ],
      "metadata": {
        "id": "O5zOc76YsrKj"
      },
      "execution_count": null,
      "outputs": []
    },
    {
      "cell_type": "code",
      "source": [
        "save_path = \"./Event Study Results/1July/\""
      ],
      "metadata": {
        "id": "GkmWbujMsrKk"
      },
      "execution_count": null,
      "outputs": []
    },
    {
      "cell_type": "code",
      "source": [
        "find(date = [\"01-Jul-20\", \"01-Jul-2020\"], companies=stocks, index='NIFTY50', estimation_size=120, test_size=29, test_window=(-14,14))"
      ],
      "metadata": {
        "colab": {
          "base_uri": "https://localhost:8080/",
          "height": 225
        },
        "outputId": "d31af52d-f509-4bb4-ddbd-3d30eb7a6c18",
        "id": "eMBgubJVsrKl"
      },
      "execution_count": null,
      "outputs": [
        {
          "output_type": "display_data",
          "data": {
            "text/plain": [
              "<Figure size 648x432 with 0 Axes>"
            ]
          },
          "metadata": {}
        },
        {
          "output_type": "display_data",
          "data": {
            "text/plain": [
              "<Figure size 648x432 with 0 Axes>"
            ]
          },
          "metadata": {}
        },
        {
          "output_type": "display_data",
          "data": {
            "text/plain": [
              "<Figure size 648x432 with 0 Axes>"
            ]
          },
          "metadata": {}
        },
        {
          "output_type": "display_data",
          "data": {
            "text/plain": [
              "<Figure size 648x432 with 0 Axes>"
            ]
          },
          "metadata": {}
        },
        {
          "output_type": "display_data",
          "data": {
            "text/plain": [
              "<Figure size 648x432 with 0 Axes>"
            ]
          },
          "metadata": {}
        },
        {
          "output_type": "display_data",
          "data": {
            "text/plain": [
              "<Figure size 648x432 with 0 Axes>"
            ]
          },
          "metadata": {}
        },
        {
          "output_type": "display_data",
          "data": {
            "text/plain": [
              "<Figure size 648x432 with 0 Axes>"
            ]
          },
          "metadata": {}
        },
        {
          "output_type": "display_data",
          "data": {
            "text/plain": [
              "<Figure size 648x432 with 0 Axes>"
            ]
          },
          "metadata": {}
        },
        {
          "output_type": "display_data",
          "data": {
            "text/plain": [
              "<Figure size 648x432 with 0 Axes>"
            ]
          },
          "metadata": {}
        },
        {
          "output_type": "display_data",
          "data": {
            "text/plain": [
              "<Figure size 648x432 with 0 Axes>"
            ]
          },
          "metadata": {}
        },
        {
          "output_type": "display_data",
          "data": {
            "text/plain": [
              "<Figure size 648x432 with 0 Axes>"
            ]
          },
          "metadata": {}
        },
        {
          "output_type": "display_data",
          "data": {
            "text/plain": [
              "<Figure size 648x432 with 0 Axes>"
            ]
          },
          "metadata": {}
        }
      ]
    },
    {
      "cell_type": "code",
      "source": [],
      "metadata": {
        "id": "ydfnjQ1Ktgsg"
      },
      "execution_count": null,
      "outputs": []
    }
  ]
}